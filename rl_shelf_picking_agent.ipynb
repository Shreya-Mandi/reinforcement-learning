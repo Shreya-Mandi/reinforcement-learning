{
  "nbformat": 4,
  "nbformat_minor": 0,
  "metadata": {
    "colab": {
      "provenance": []
    },
    "kernelspec": {
      "name": "python3",
      "display_name": "Python 3"
    },
    "language_info": {
      "name": "python"
    }
  },
  "cells": [
    {
      "cell_type": "markdown",
      "source": [
        "#Setting up environment"
      ],
      "metadata": {
        "id": "6UdHC7HgYFLv"
      }
    },
    {
      "cell_type": "code",
      "source": [
        "#import\n",
        "import numpy as np"
      ],
      "metadata": {
        "id": "2Xrzvz2oXEz5"
      },
      "execution_count": null,
      "outputs": []
    },
    {
      "cell_type": "code",
      "source": [
        "#creating environment\n",
        "\n",
        "\n",
        "#defining states\n",
        "num_rows=11\n",
        "num_columns=11\n",
        "\n",
        "q_values=np.zeros((num_rows,num_columns,4))\n",
        "\n",
        "#defining actions\n",
        "#0=up,1=right, 2=down, 3=left\n",
        "\n",
        "actions=['up','right','down','left']\n",
        "\n",
        "\n",
        "#rewards matrix\n",
        "rewards=np.full((num_rows,num_columns),-100.)\n",
        "rewards[0, 5] = 100. #set the reward for the packaging area (i.e., the goal) to 100\n",
        "\n",
        "#define aisle locations (i.e., white squares) for rows 1 through 9\n",
        "aisles = {} #store locations in a dictionary\n",
        "aisles[1] = [i for i in range(1, 10)]\n",
        "aisles[2] = [1, 7, 9]\n",
        "aisles[3] = [i for i in range(1, 8)]\n",
        "aisles[3].append(9)\n",
        "aisles[4] = [3, 7]\n",
        "aisles[5] = [i for i in range(11)]\n",
        "aisles[6] = [5]\n",
        "aisles[7] = [i for i in range(1, 10)]\n",
        "aisles[8] = [3, 7]\n",
        "aisles[9] = [i for i in range(11)]\n",
        "\n",
        "#set the rewards for all aisle locations (i.e., white squares)\n",
        "for row_index in range(1, 10):\n",
        "  for column_index in aisles[row_index]:\n",
        "    rewards[row_index, column_index] = -1.\n",
        "\n",
        "#print rewards matrix\n",
        "for row in rewards:\n",
        "  print(row)"
      ],
      "metadata": {
        "colab": {
          "base_uri": "https://localhost:8080/"
        },
        "id": "ef8xyPAcXJdZ",
        "outputId": "7e46233d-5993-47da-c027-bb61bb1216a8"
      },
      "execution_count": null,
      "outputs": [
        {
          "output_type": "stream",
          "name": "stdout",
          "text": [
            "[-100. -100. -100. -100. -100.  100. -100. -100. -100. -100. -100.]\n",
            "[-100.   -1.   -1.   -1.   -1.   -1.   -1.   -1.   -1.   -1. -100.]\n",
            "[-100.   -1. -100. -100. -100. -100. -100.   -1. -100.   -1. -100.]\n",
            "[-100.   -1.   -1.   -1.   -1.   -1.   -1.   -1. -100.   -1. -100.]\n",
            "[-100. -100. -100.   -1. -100. -100. -100.   -1. -100. -100. -100.]\n",
            "[-1. -1. -1. -1. -1. -1. -1. -1. -1. -1. -1.]\n",
            "[-100. -100. -100. -100. -100.   -1. -100. -100. -100. -100. -100.]\n",
            "[-100.   -1.   -1.   -1.   -1.   -1.   -1.   -1.   -1.   -1. -100.]\n",
            "[-100. -100. -100.   -1. -100. -100. -100.   -1. -100. -100. -100.]\n",
            "[-1. -1. -1. -1. -1. -1. -1. -1. -1. -1. -1.]\n",
            "[-100. -100. -100. -100. -100. -100. -100. -100. -100. -100. -100.]\n"
          ]
        }
      ]
    },
    {
      "cell_type": "markdown",
      "source": [
        "#Training"
      ],
      "metadata": {
        "id": "dDiX5HF_YJ5v"
      }
    },
    {
      "cell_type": "code",
      "source": [
        "#helper functions\n",
        "\n",
        "\n",
        "#terminal state\n",
        "def is_terminal_state(cur_row,cur_col):\n",
        "  if(rewards[cur_row,cur_col]==-1.):\n",
        "    return False\n",
        "  else:\n",
        "    return True\n",
        "\n",
        "#get random starting index\n",
        "def get_start_index():\n",
        "  cur_row=np.random.randint(num_rows)\n",
        "  cur_col=np.random.randint(num_columns)\n",
        "\n",
        "  while(is_terminal_state(cur_row,cur_col)):\n",
        "    cur_row=np.random.randint(num_rows)\n",
        "    cur_col=np.random.randint(num_columns)\n",
        "  return cur_row, cur_col\n",
        "\n",
        "#next action by epsilon greedy method\n",
        "def get_next_action(cur_row,cur_col, epsilon):\n",
        "  r=np.random.random()\n",
        "  if(r<epsilon):\n",
        "    return np.argmax(q_values[cur_row,cur_col])\n",
        "  else:\n",
        "     return np.random.randint(4)\n",
        "\n",
        "#update new row and column values\n",
        "def get_next_state(cur_row,cur_col,action):\n",
        "  new_row, new_col=cur_row, cur_col\n",
        "  if action==0 and cur_row>0:\n",
        "    new_row-=1\n",
        "  elif action==1 and cur_col<num_columns-1:\n",
        "    new_col+=1\n",
        "  elif action==2 and cur_row<num_rows-1:\n",
        "    new_row+=1\n",
        "  elif action==3 and cur_col>0:\n",
        "    new_col-=1\n",
        "  return new_row,new_col\n",
        "\n",
        "#finding thee shortest path\n",
        "def get_shortest_path(start_row,start_col):\n",
        "  if(is_terminal_state(start_row,start_col)):\n",
        "    return []\n",
        "  else:\n",
        "    short_path=[]\n",
        "    cur_row,cur_col=start_row,start_col\n",
        "    short_path.append([cur_row,cur_col])\n",
        "    while not(is_terminal_state(cur_row,cur_col)):\n",
        "      action=get_next_action(cur_row,cur_col,1.0)\n",
        "      cur_row,cur_col=get_next_state(cur_row,cur_col,action)\n",
        "      short_path.append([cur_row,cur_col])\n",
        "  return short_path\n",
        "\n"
      ],
      "metadata": {
        "id": "-8hFI25nX9R8"
      },
      "execution_count": null,
      "outputs": []
    },
    {
      "cell_type": "code",
      "source": [
        "#training agent\n",
        "\n",
        "#training parameters\n",
        "epsilon=0.9\n",
        "gamma=0.9\n",
        "alpha=0.9\n",
        "\n",
        "for episode in range(1000):\n",
        "  #initialise\n",
        "  row,col=get_start_index()\n",
        "\n",
        "  while(not(is_terminal_state(row,col))):\n",
        "    action=get_next_action(row,col,epsilon)\n",
        "\n",
        "    old_row,old_col=row,col\n",
        "    row,col=get_next_state(row,col,action)\n",
        "\n",
        "    rew=rewards[row,col]\n",
        "    td=rew+(gamma*np.max(q_values[row,col]))-q_values[old_row,old_col,action]\n",
        "\n",
        "    new_q=q_values[old_row,old_col,action]+(alpha*td)\n",
        "    q_values[old_row,old_col,action]=new_q\n",
        "\n",
        "print('Trained!!!')"
      ],
      "metadata": {
        "colab": {
          "base_uri": "https://localhost:8080/"
        },
        "id": "yLy5DmTkgBdc",
        "outputId": "3b8e1467-78a2-4822-adc5-ea23e8fd9bff"
      },
      "execution_count": null,
      "outputs": [
        {
          "output_type": "stream",
          "name": "stdout",
          "text": [
            "Trained!!!\n"
          ]
        }
      ]
    },
    {
      "cell_type": "markdown",
      "source": [
        "#Get shortest paths"
      ],
      "metadata": {
        "id": "0sCQMzMklrO7"
      }
    },
    {
      "cell_type": "code",
      "source": [
        "get_shortest_path(1,5)"
      ],
      "metadata": {
        "colab": {
          "base_uri": "https://localhost:8080/"
        },
        "id": "M4fIbS33lqo_",
        "outputId": "3f09fa24-f5a8-4bf3-92af-d8891692aa38"
      },
      "execution_count": null,
      "outputs": [
        {
          "output_type": "execute_result",
          "data": {
            "text/plain": [
              "[[1, 5], [0, 5]]"
            ]
          },
          "metadata": {},
          "execution_count": 45
        }
      ]
    },
    {
      "cell_type": "code",
      "source": [
        "get_shortest_path(9,5)"
      ],
      "metadata": {
        "colab": {
          "base_uri": "https://localhost:8080/"
        },
        "id": "dHcfhUuQmWiq",
        "outputId": "ac51ba37-0143-4e7c-cdd5-70f1714a32bf"
      },
      "execution_count": null,
      "outputs": [
        {
          "output_type": "execute_result",
          "data": {
            "text/plain": [
              "[[9, 5],\n",
              " [9, 4],\n",
              " [9, 3],\n",
              " [8, 3],\n",
              " [7, 3],\n",
              " [7, 4],\n",
              " [7, 5],\n",
              " [6, 5],\n",
              " [5, 5],\n",
              " [5, 4],\n",
              " [5, 3],\n",
              " [4, 3],\n",
              " [3, 3],\n",
              " [3, 2],\n",
              " [3, 1],\n",
              " [2, 1],\n",
              " [1, 1],\n",
              " [1, 2],\n",
              " [1, 3],\n",
              " [1, 4],\n",
              " [1, 5],\n",
              " [0, 5]]"
            ]
          },
          "metadata": {},
          "execution_count": 48
        }
      ]
    }
  ]
}